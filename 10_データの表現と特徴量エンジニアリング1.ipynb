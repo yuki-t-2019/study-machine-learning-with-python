{
 "cells": [
  {
   "cell_type": "markdown",
   "metadata": {},
   "source": [
    "# Python機械学習 勉強会 第十回「データの表現と特徴量エンジニアリング1」\n",
    "\n",
    "参考文献：  \n",
    "Pythonではじめる機械学習　4章  \n",
    "https://github.com/amueller/introduction_to_ml_with_python/blob/master/04-representing-data-feature-engineering.ipynb\n",
    "\n",
    "scikit-learnドキュメント：  \n",
    "https://scikit-learn.org/stable/documentation.html"
   ]
  },
  {
   "cell_type": "code",
   "execution_count": 1,
   "metadata": {},
   "outputs": [],
   "source": [
    "%matplotlib inline\n",
    "from preamble import *\n",
    "from sklearn.model_selection import train_test_split"
   ]
  },
  {
   "cell_type": "markdown",
   "metadata": {},
   "source": [
    "<br>\n",
    "\n",
    "---\n",
    "\n",
    "## はじめに\n",
    "\n",
    "今回は以下の内容を取り組む\n",
    "\n",
    "* カテゴリ変数\n",
    "* ビニング、離散化、線形モデル、決定木\n",
    "* 交互作用と多項式"
   ]
  },
  {
   "cell_type": "markdown",
   "metadata": {},
   "source": [
    "<br>\n",
    "\n",
    "---\n",
    "\n",
    "## 4 データの表現と特徴量エンジニアリング"
   ]
  },
  {
   "cell_type": "markdown",
   "metadata": {},
   "source": [
    "これまでは、浮動小数点数配列として得られるデータを主に扱ってきた。  \n",
    "それぞれの列はデータポイントを表す**連続値特徴量**である。\n",
    "\n",
    "それ以外にも**カテゴリ特徴量(離散値特徴量)**が存在し、一般的によく使われている。\n",
    "\n",
    "* 連続値特徴量の例　：ピクセルの明るさ、花の大きさ\n",
    "* カテゴリ特徴量の例：製品のブランド名や色など\n",
    "\n",
    "<br>\n",
    "\n",
    "ここではこれらの特徴量についてデータを(モデルにとって)正しく表現する手段である、  \n",
    "**特徴量エンジニアリング(feature engineering)**について学んでいく。"
   ]
  },
  {
   "cell_type": "markdown",
   "metadata": {},
   "source": [
    "<br>\n",
    "\n",
    "---\n",
    "\n",
    "### 4.1 カテゴリ変数\n",
    "\n",
    "ここではカテゴリ変数(カテゴリ特徴量)を扱う方法を説明する。  \n",
    "具体的に、1994年の一斉調査で得られたアメリカ合衆国成人の収入データセットを例に説明する。"
   ]
  },
  {
   "cell_type": "code",
   "execution_count": 2,
   "metadata": {},
   "outputs": [
    {
     "data": {
      "text/html": [
       "<div>\n",
       "<style scoped>\n",
       "    .dataframe tbody tr th:only-of-type {\n",
       "        vertical-align: middle;\n",
       "    }\n",
       "\n",
       "    .dataframe tbody tr th {\n",
       "        vertical-align: top;\n",
       "    }\n",
       "\n",
       "    .dataframe thead th {\n",
       "        text-align: right;\n",
       "    }\n",
       "</style>\n",
       "<table border=\"1\" class=\"dataframe\">\n",
       "  <thead>\n",
       "    <tr style=\"text-align: right;\">\n",
       "      <th></th>\n",
       "      <th>age</th>\n",
       "      <th>workclass</th>\n",
       "      <th>education</th>\n",
       "      <th>gender</th>\n",
       "      <th>hours-per-week</th>\n",
       "      <th>occupation</th>\n",
       "      <th>income</th>\n",
       "    </tr>\n",
       "  </thead>\n",
       "  <tbody>\n",
       "    <tr>\n",
       "      <th>0</th>\n",
       "      <td>39</td>\n",
       "      <td>State-gov</td>\n",
       "      <td>Bachelors</td>\n",
       "      <td>Male</td>\n",
       "      <td>40</td>\n",
       "      <td>Adm-clerical</td>\n",
       "      <td>&lt;=50K</td>\n",
       "    </tr>\n",
       "    <tr>\n",
       "      <th>1</th>\n",
       "      <td>50</td>\n",
       "      <td>Self-emp-not-inc</td>\n",
       "      <td>Bachelors</td>\n",
       "      <td>Male</td>\n",
       "      <td>13</td>\n",
       "      <td>Exec-managerial</td>\n",
       "      <td>&lt;=50K</td>\n",
       "    </tr>\n",
       "    <tr>\n",
       "      <th>2</th>\n",
       "      <td>38</td>\n",
       "      <td>Private</td>\n",
       "      <td>HS-grad</td>\n",
       "      <td>Male</td>\n",
       "      <td>40</td>\n",
       "      <td>Handlers-cleaners</td>\n",
       "      <td>&lt;=50K</td>\n",
       "    </tr>\n",
       "    <tr>\n",
       "      <th>3</th>\n",
       "      <td>53</td>\n",
       "      <td>Private</td>\n",
       "      <td>11th</td>\n",
       "      <td>Male</td>\n",
       "      <td>40</td>\n",
       "      <td>Handlers-cleaners</td>\n",
       "      <td>&lt;=50K</td>\n",
       "    </tr>\n",
       "    <tr>\n",
       "      <th>4</th>\n",
       "      <td>28</td>\n",
       "      <td>Private</td>\n",
       "      <td>Bachelors</td>\n",
       "      <td>Female</td>\n",
       "      <td>40</td>\n",
       "      <td>Prof-specialty</td>\n",
       "      <td>&lt;=50K</td>\n",
       "    </tr>\n",
       "    <tr>\n",
       "      <th>5</th>\n",
       "      <td>37</td>\n",
       "      <td>Private</td>\n",
       "      <td>Masters</td>\n",
       "      <td>Female</td>\n",
       "      <td>40</td>\n",
       "      <td>Exec-managerial</td>\n",
       "      <td>&lt;=50K</td>\n",
       "    </tr>\n",
       "    <tr>\n",
       "      <th>6</th>\n",
       "      <td>49</td>\n",
       "      <td>Private</td>\n",
       "      <td>9th</td>\n",
       "      <td>Female</td>\n",
       "      <td>16</td>\n",
       "      <td>Other-service</td>\n",
       "      <td>&lt;=50K</td>\n",
       "    </tr>\n",
       "    <tr>\n",
       "      <th>7</th>\n",
       "      <td>52</td>\n",
       "      <td>Self-emp-not-inc</td>\n",
       "      <td>HS-grad</td>\n",
       "      <td>Male</td>\n",
       "      <td>45</td>\n",
       "      <td>Exec-managerial</td>\n",
       "      <td>&gt;50K</td>\n",
       "    </tr>\n",
       "    <tr>\n",
       "      <th>8</th>\n",
       "      <td>31</td>\n",
       "      <td>Private</td>\n",
       "      <td>Masters</td>\n",
       "      <td>Female</td>\n",
       "      <td>50</td>\n",
       "      <td>Prof-specialty</td>\n",
       "      <td>&gt;50K</td>\n",
       "    </tr>\n",
       "    <tr>\n",
       "      <th>9</th>\n",
       "      <td>42</td>\n",
       "      <td>Private</td>\n",
       "      <td>Bachelors</td>\n",
       "      <td>Male</td>\n",
       "      <td>40</td>\n",
       "      <td>Exec-managerial</td>\n",
       "      <td>&gt;50K</td>\n",
       "    </tr>\n",
       "    <tr>\n",
       "      <th>10</th>\n",
       "      <td>37</td>\n",
       "      <td>Private</td>\n",
       "      <td>Some-college</td>\n",
       "      <td>Male</td>\n",
       "      <td>80</td>\n",
       "      <td>Exec-managerial</td>\n",
       "      <td>&gt;50K</td>\n",
       "    </tr>\n",
       "  </tbody>\n",
       "</table>\n",
       "</div>"
      ],
      "text/plain": [
       "    age          workclass      education   gender  hours-per-week  \\\n",
       "0    39          State-gov      Bachelors     Male              40   \n",
       "1    50   Self-emp-not-inc      Bachelors     Male              13   \n",
       "2    38            Private        HS-grad     Male              40   \n",
       "3    53            Private           11th     Male              40   \n",
       "4    28            Private      Bachelors   Female              40   \n",
       "5    37            Private        Masters   Female              40   \n",
       "6    49            Private            9th   Female              16   \n",
       "7    52   Self-emp-not-inc        HS-grad     Male              45   \n",
       "8    31            Private        Masters   Female              50   \n",
       "9    42            Private      Bachelors     Male              40   \n",
       "10   37            Private   Some-college     Male              80   \n",
       "\n",
       "            occupation  income  \n",
       "0         Adm-clerical   <=50K  \n",
       "1      Exec-managerial   <=50K  \n",
       "2    Handlers-cleaners   <=50K  \n",
       "3    Handlers-cleaners   <=50K  \n",
       "4       Prof-specialty   <=50K  \n",
       "5      Exec-managerial   <=50K  \n",
       "6        Other-service   <=50K  \n",
       "7      Exec-managerial    >50K  \n",
       "8       Prof-specialty    >50K  \n",
       "9      Exec-managerial    >50K  \n",
       "10     Exec-managerial    >50K  "
      ]
     },
     "metadata": {},
     "output_type": "display_data"
    }
   ],
   "source": [
    "import os\n",
    "# このファイルにはコラム名を含んだヘッダがないので、header=Noneを指定し、\n",
    "# コラム名を\"names\"で明示的に指定\n",
    "adult_path = os.path.join(mglearn.datasets.DATA_PATH, \"adult.data\")\n",
    "data = pd.read_csv(\n",
    "    adult_path, header=None, index_col=False,\n",
    "    names=['age', 'workclass', 'fnlwgt', 'education',  'education-num',\n",
    "           'marital-status', 'occupation', 'relationship', 'race', 'gender',\n",
    "           'capital-gain', 'capital-loss', 'hours-per-week', 'native-country',\n",
    "           'income'])\n",
    "\n",
    "# 開設のために、いくるかのカラムだけを選択\n",
    "# age:年齢、workclass:雇用形態、education:教育、gender:性別、hours-per-week:週あたりの労働時間、\n",
    "# occupation:職業、income:収入\n",
    "data = data[['age', 'workclass', 'education', 'gender', 'hours-per-week',\n",
    "             'occupation', 'income']]\n",
    "\n",
    "display(data.head(11))"
   ]
  },
  {
   "cell_type": "markdown",
   "metadata": {},
   "source": [
    "このタスクは収入が5万どるを超えるかどうかを判定する、2クラス分類である。  \n",
    "このデータセットでは、ageとhours-per-weekが連続値特徴量、その他はカテゴリ特徴量。\n",
    "\n",
    "ここでは、このデータでロジスティック回帰クラス分類器を学習させてみる。\n",
    "\n",
    "$$\n",
    "\\hat{y} = w[0] * x[0] + w[1] * x[1] + \\dots + w[p] * x[p] + b > 0\n",
    "$$\n",
    "\n",
    "w[i]とbは訓練セットから学習した係数で、x[i]は入力特徴量を意味する。\n",
    "\n",
    "この式ではx[i]が数値である場合は意味を持つが、x[2]のように\"Masters\"や\"Bachelors\"のような文字列の場合は意味をなさない。  \n",
    "そこで、これらのカテゴリ変数をモデルに適した表現に変更する必要がある。"
   ]
  },
  {
   "cell_type": "markdown",
   "metadata": {},
   "source": [
    "<br>\n",
    "\n",
    "### 4.1.1 ワンホットエンコーディング(ダミー変数)\n",
    "\n",
    "カテゴリ変数を表現する方法として一般的に用いられている手法に、**ワンホットエンコーディング**がある。  \n",
    "この手法を用いて作成される特徴量をダミー変数とも呼ぶ。\n",
    "\n",
    "具体的には、カテゴリ変数を0と1の値を持つ、新しい特徴量に置き換える手法である。\n",
    "\n",
    "<br>\n",
    "\n",
    "例えば、workclass特徴量に対してワンホットエンコーディングを適用してみる。  \n",
    "これらは、\"Goverment Employee\"、\"Private Employee\"、\"Self Employed\"、\"Self Employed Incorporated\"の4つの値を取るとする。\n",
    "\n",
    "| workclass                  | State-gov | private Employee | Self Employed | Self Employed Incorporated\n",
    "|:-:                         |:-:        |:-:               |:-:            |:-:\n",
    "| State-gov                  | 1         | 0                | 0             | 0\n",
    "|private Employee            | 0         | 1                | 0             | 0\n",
    "| Self Employed              | 0         | 0                | 1             | 0\n",
    "| Self Employed Incorporated | 0         | 0                | 0             | 1\n",
    "\n",
    "<br>\n",
    "\n",
    "この表のように、各データポイントに対して、新しい4つの特徴量のうち1つだけが1となり、残りの特徴は0となる。  \n",
    "このように表現することで、カテゴリ変数をモデルが解釈できるようになる。"
   ]
  },
  {
   "cell_type": "markdown",
   "metadata": {},
   "source": [
    "ワンホットエンコーディングを実現するには2つの方法がある。  \n",
    "* Pandasを使う方法\n",
    "* sckit-learnを使う方法\n",
    "\n",
    "ここではPandasを使う方法を試してみる。\n",
    "\n",
    "<br>\n",
    "\n",
    "データセットを読み込んだら、各列に意味のあるカテゴリデータが含まれているかチェックする。  \n",
    "例えば、文字の揺れ(maleであったりmanであったり)や、大文字小文字を区別する必要があるか、など。\n",
    "\n",
    "***value_counts***関数を用いれば、各行に含まれているユニークな値とその数を表示できる"
   ]
  },
  {
   "cell_type": "code",
   "execution_count": 3,
   "metadata": {},
   "outputs": [
    {
     "name": "stdout",
     "output_type": "stream",
     "text": [
      " Male      21790\n",
      " Female    10771\n",
      "Name: gender, dtype: int64\n"
     ]
    }
   ],
   "source": [
    "print(data.gender.value_counts())"
   ]
  },
  {
   "cell_type": "markdown",
   "metadata": {},
   "source": [
    "たとえば、genderにはMaleとFemaleしか存在しないので、既に整理されていることが分かり、  \n",
    "この特徴量に関してはこのままワンホットエンコーディングして良い事が分かる。  \n",
    "\n",
    "ここでは省略するが、全てのカテゴリ変数に対してこのチェックは行った方が良い。\n",
    "\n",
    "<br>\n",
    "\n",
    "pandasでは、***get_dumies***関数を使って簡単にワンホットエンコーディングできる。"
   ]
  },
  {
   "cell_type": "code",
   "execution_count": 4,
   "metadata": {},
   "outputs": [
    {
     "name": "stdout",
     "output_type": "stream",
     "text": [
      "Original features:\n",
      " ['age', 'workclass', 'education', 'gender', 'hours-per-week', 'occupation', 'income'] \n",
      "\n",
      "Features after get_dummies:\n",
      " ['age', 'hours-per-week', 'workclass_ ?', 'workclass_ Federal-gov', 'workclass_ Local-gov', 'workclass_ Never-worked', 'workclass_ Private', 'workclass_ Self-emp-inc', 'workclass_ Self-emp-not-inc', 'workclass_ State-gov', 'workclass_ Without-pay', 'education_ 10th', 'education_ 11th', 'education_ 12th', 'education_ 1st-4th', 'education_ 5th-6th', 'education_ 7th-8th', 'education_ 9th', 'education_ Assoc-acdm', 'education_ Assoc-voc', 'education_ Bachelors', 'education_ Doctorate', 'education_ HS-grad', 'education_ Masters', 'education_ Preschool', 'education_ Prof-school', 'education_ Some-college', 'gender_ Female', 'gender_ Male', 'occupation_ ?', 'occupation_ Adm-clerical', 'occupation_ Armed-Forces', 'occupation_ Craft-repair', 'occupation_ Exec-managerial', 'occupation_ Farming-fishing', 'occupation_ Handlers-cleaners', 'occupation_ Machine-op-inspct', 'occupation_ Other-service', 'occupation_ Priv-house-serv', 'occupation_ Prof-specialty', 'occupation_ Protective-serv', 'occupation_ Sales', 'occupation_ Tech-support', 'occupation_ Transport-moving', 'income_ <=50K', 'income_ >50K']\n"
     ]
    }
   ],
   "source": [
    "print(\"Original features:\\n\", list(data.columns), \"\\n\")\n",
    "\n",
    "data_dummies = pd.get_dummies(data)\n",
    "\n",
    "print(\"Features after get_dummies:\\n\", list(data_dummies.columns))"
   ]
  },
  {
   "cell_type": "markdown",
   "metadata": {},
   "source": [
    "<br>\n",
    "\n",
    "もともと連続値特徴量であるageとhours-per-weekは変換されていないが、カテゴリ変数は取りうる値ごとに特徴量が拡張されていることが分かる。"
   ]
  },
  {
   "cell_type": "code",
   "execution_count": 5,
   "metadata": {},
   "outputs": [
    {
     "data": {
      "text/html": [
       "<div>\n",
       "<style scoped>\n",
       "    .dataframe tbody tr th:only-of-type {\n",
       "        vertical-align: middle;\n",
       "    }\n",
       "\n",
       "    .dataframe tbody tr th {\n",
       "        vertical-align: top;\n",
       "    }\n",
       "\n",
       "    .dataframe thead th {\n",
       "        text-align: right;\n",
       "    }\n",
       "</style>\n",
       "<table border=\"1\" class=\"dataframe\">\n",
       "  <thead>\n",
       "    <tr style=\"text-align: right;\">\n",
       "      <th></th>\n",
       "      <th>age</th>\n",
       "      <th>hours-per-week</th>\n",
       "      <th>workclass_ ?</th>\n",
       "      <th>workclass_ Federal-gov</th>\n",
       "      <th>...</th>\n",
       "      <th>occupation_ Tech-support</th>\n",
       "      <th>occupation_ Transport-moving</th>\n",
       "      <th>income_ &lt;=50K</th>\n",
       "      <th>income_ &gt;50K</th>\n",
       "    </tr>\n",
       "  </thead>\n",
       "  <tbody>\n",
       "    <tr>\n",
       "      <th>0</th>\n",
       "      <td>39</td>\n",
       "      <td>40</td>\n",
       "      <td>0</td>\n",
       "      <td>0</td>\n",
       "      <td>...</td>\n",
       "      <td>0</td>\n",
       "      <td>0</td>\n",
       "      <td>1</td>\n",
       "      <td>0</td>\n",
       "    </tr>\n",
       "    <tr>\n",
       "      <th>1</th>\n",
       "      <td>50</td>\n",
       "      <td>13</td>\n",
       "      <td>0</td>\n",
       "      <td>0</td>\n",
       "      <td>...</td>\n",
       "      <td>0</td>\n",
       "      <td>0</td>\n",
       "      <td>1</td>\n",
       "      <td>0</td>\n",
       "    </tr>\n",
       "    <tr>\n",
       "      <th>2</th>\n",
       "      <td>38</td>\n",
       "      <td>40</td>\n",
       "      <td>0</td>\n",
       "      <td>0</td>\n",
       "      <td>...</td>\n",
       "      <td>0</td>\n",
       "      <td>0</td>\n",
       "      <td>1</td>\n",
       "      <td>0</td>\n",
       "    </tr>\n",
       "    <tr>\n",
       "      <th>3</th>\n",
       "      <td>53</td>\n",
       "      <td>40</td>\n",
       "      <td>0</td>\n",
       "      <td>0</td>\n",
       "      <td>...</td>\n",
       "      <td>0</td>\n",
       "      <td>0</td>\n",
       "      <td>1</td>\n",
       "      <td>0</td>\n",
       "    </tr>\n",
       "    <tr>\n",
       "      <th>4</th>\n",
       "      <td>28</td>\n",
       "      <td>40</td>\n",
       "      <td>0</td>\n",
       "      <td>0</td>\n",
       "      <td>...</td>\n",
       "      <td>0</td>\n",
       "      <td>0</td>\n",
       "      <td>1</td>\n",
       "      <td>0</td>\n",
       "    </tr>\n",
       "  </tbody>\n",
       "</table>\n",
       "<p>5 rows × 46 columns</p>\n",
       "</div>"
      ],
      "text/plain": [
       "   age  hours-per-week  workclass_ ?  workclass_ Federal-gov  ...  \\\n",
       "0   39              40             0                       0  ...   \n",
       "1   50              13             0                       0  ...   \n",
       "2   38              40             0                       0  ...   \n",
       "3   53              40             0                       0  ...   \n",
       "4   28              40             0                       0  ...   \n",
       "\n",
       "   occupation_ Tech-support  occupation_ Transport-moving  income_ <=50K  \\\n",
       "0                         0                             0              1   \n",
       "1                         0                             0              1   \n",
       "2                         0                             0              1   \n",
       "3                         0                             0              1   \n",
       "4                         0                             0              1   \n",
       "\n",
       "   income_ >50K  \n",
       "0             0  \n",
       "1             0  \n",
       "2             0  \n",
       "3             0  \n",
       "4             0  \n",
       "\n",
       "[5 rows x 46 columns]"
      ]
     },
     "metadata": {},
     "output_type": "display_data"
    }
   ],
   "source": [
    "display(data_dummies.head())"
   ]
  },
  {
   "cell_type": "code",
   "execution_count": 6,
   "metadata": {},
   "outputs": [
    {
     "data": {
      "text/plain": [
       "pandas.core.frame.DataFrame"
      ]
     },
     "execution_count": 6,
     "metadata": {},
     "output_type": "execute_result"
    }
   ],
   "source": [
    "type(data_dummies)"
   ]
  },
  {
   "cell_type": "markdown",
   "metadata": {},
   "source": [
    "これで、values属性を用いてdata_dumiesをNumpy配列に変換すれば機械学習モデルを学習させることができる。  \n",
    "\n",
    "* モデルを学習させる前にターゲット変数(income列)を分離する必要あり\n",
    "* pandasの列インデックスの範囲指定は最後のインデックスを含む仕様となっており、  \n",
    "    通常のPythonスライスやNumPyのスライスとは異なるので注意"
   ]
  },
  {
   "cell_type": "code",
   "execution_count": 7,
   "metadata": {},
   "outputs": [
    {
     "name": "stdout",
     "output_type": "stream",
     "text": [
      "X.shape: (32561, 44)  y.shape: (32561,)\n"
     ]
    }
   ],
   "source": [
    "# Pandasのスライスは最後のインデックスを含む\n",
    "features = data_dummies.loc[:, 'age':'occupation_ Transport-moving']\n",
    "\n",
    "# NumPy配列に変換\n",
    "X = features.values\n",
    "\n",
    "# ターゲット変数を抜き出す\n",
    "y = data_dummies['income_ >50K'].values\n",
    "\n",
    "print(\"X.shape: {}  y.shape: {}\".format(X.shape, y.shape))"
   ]
  },
  {
   "cell_type": "code",
   "execution_count": 37,
   "metadata": {},
   "outputs": [
    {
     "name": "stdout",
     "output_type": "stream",
     "text": [
      "<class 'pandas.core.frame.DataFrame'> <class 'numpy.ndarray'>\n"
     ]
    }
   ],
   "source": [
    "print(type(features),type(X))"
   ]
  },
  {
   "cell_type": "code",
   "execution_count": 8,
   "metadata": {},
   "outputs": [
    {
     "name": "stdout",
     "output_type": "stream",
     "text": [
      "Test score: 0.81\n"
     ]
    },
    {
     "name": "stderr",
     "output_type": "stream",
     "text": [
      "C:\\Users\\0060778-z100\\AppData\\Local\\Continuum\\anaconda3\\lib\\site-packages\\sklearn\\linear_model\\logistic.py:433: FutureWarning: Default solver will be changed to 'lbfgs' in 0.22. Specify a solver to silence this warning.\n",
      "  FutureWarning)\n"
     ]
    }
   ],
   "source": [
    "from sklearn.linear_model import LogisticRegression\n",
    "\n",
    "X_train, X_test, y_train, y_test = train_test_split(X, y, random_state=0)\n",
    "logreg = LogisticRegression()\n",
    "logreg.fit(X_train, y_train)\n",
    "print(\"Test score: {:.2f}\".format(logreg.score(X_test, y_test)))"
   ]
  },
  {
   "cell_type": "markdown",
   "metadata": {},
   "source": [
    "<br>\n",
    "\n",
    "**注意**  \n",
    "ワンホットエンコーディングする際は、学習データとテストデータが混じった状態でワンホットエンコーディングすると良い。  \n",
    "もしくは、それぞれでワンホットエンコーディングした後に、各特徴量が同じであるか確認する必要がある。\n",
    "\n",
    "もし学習データ、テストデータのどちらかにしか存在しない値があった場合に、それぞれでワンホットエンコーディングすると、  \n",
    "学習用の特徴量とテスト用の特徴量が異なってしまうからだ。"
   ]
  },
  {
   "cell_type": "markdown",
   "metadata": {},
   "source": [
    "<br>\n",
    "\n",
    "### 4.1.2 数値でエンコードされているカテゴリ\n",
    "\n",
    "前の節で説明したように文字列として表現されているカテゴリ変数ばかりではない。  \n",
    "数値データであるが実際はカテゴリ変数を意味する特徴量も存在する。\n",
    "\n",
    "このような場合は、もともと数値データとして保存されているカテゴリ変数の各データを文字列に変換し、  \n",
    "columnsパラメータで明示的に指定する。"
   ]
  },
  {
   "cell_type": "code",
   "execution_count": 9,
   "metadata": {},
   "outputs": [
    {
     "data": {
      "text/html": [
       "<div>\n",
       "<style scoped>\n",
       "    .dataframe tbody tr th:only-of-type {\n",
       "        vertical-align: middle;\n",
       "    }\n",
       "\n",
       "    .dataframe tbody tr th {\n",
       "        vertical-align: top;\n",
       "    }\n",
       "\n",
       "    .dataframe thead th {\n",
       "        text-align: right;\n",
       "    }\n",
       "</style>\n",
       "<table border=\"1\" class=\"dataframe\">\n",
       "  <thead>\n",
       "    <tr style=\"text-align: right;\">\n",
       "      <th></th>\n",
       "      <th>Integer Feature</th>\n",
       "      <th>Categorical Feature</th>\n",
       "    </tr>\n",
       "  </thead>\n",
       "  <tbody>\n",
       "    <tr>\n",
       "      <th>0</th>\n",
       "      <td>0</td>\n",
       "      <td>socks</td>\n",
       "    </tr>\n",
       "    <tr>\n",
       "      <th>1</th>\n",
       "      <td>1</td>\n",
       "      <td>fox</td>\n",
       "    </tr>\n",
       "    <tr>\n",
       "      <th>2</th>\n",
       "      <td>2</td>\n",
       "      <td>socks</td>\n",
       "    </tr>\n",
       "    <tr>\n",
       "      <th>3</th>\n",
       "      <td>1</td>\n",
       "      <td>box</td>\n",
       "    </tr>\n",
       "  </tbody>\n",
       "</table>\n",
       "</div>"
      ],
      "text/plain": [
       "   Integer Feature Categorical Feature\n",
       "0                0               socks\n",
       "1                1                 fox\n",
       "2                2               socks\n",
       "3                1                 box"
      ]
     },
     "metadata": {},
     "output_type": "display_data"
    },
    {
     "data": {
      "text/html": [
       "<div>\n",
       "<style scoped>\n",
       "    .dataframe tbody tr th:only-of-type {\n",
       "        vertical-align: middle;\n",
       "    }\n",
       "\n",
       "    .dataframe tbody tr th {\n",
       "        vertical-align: top;\n",
       "    }\n",
       "\n",
       "    .dataframe thead th {\n",
       "        text-align: right;\n",
       "    }\n",
       "</style>\n",
       "<table border=\"1\" class=\"dataframe\">\n",
       "  <thead>\n",
       "    <tr style=\"text-align: right;\">\n",
       "      <th></th>\n",
       "      <th>Integer Feature_0</th>\n",
       "      <th>Integer Feature_1</th>\n",
       "      <th>Integer Feature_2</th>\n",
       "      <th>Categorical Feature_box</th>\n",
       "      <th>Categorical Feature_fox</th>\n",
       "      <th>Categorical Feature_socks</th>\n",
       "    </tr>\n",
       "  </thead>\n",
       "  <tbody>\n",
       "    <tr>\n",
       "      <th>0</th>\n",
       "      <td>1</td>\n",
       "      <td>0</td>\n",
       "      <td>0</td>\n",
       "      <td>0</td>\n",
       "      <td>0</td>\n",
       "      <td>1</td>\n",
       "    </tr>\n",
       "    <tr>\n",
       "      <th>1</th>\n",
       "      <td>0</td>\n",
       "      <td>1</td>\n",
       "      <td>0</td>\n",
       "      <td>0</td>\n",
       "      <td>1</td>\n",
       "      <td>0</td>\n",
       "    </tr>\n",
       "    <tr>\n",
       "      <th>2</th>\n",
       "      <td>0</td>\n",
       "      <td>0</td>\n",
       "      <td>1</td>\n",
       "      <td>0</td>\n",
       "      <td>0</td>\n",
       "      <td>1</td>\n",
       "    </tr>\n",
       "    <tr>\n",
       "      <th>3</th>\n",
       "      <td>0</td>\n",
       "      <td>1</td>\n",
       "      <td>0</td>\n",
       "      <td>1</td>\n",
       "      <td>0</td>\n",
       "      <td>0</td>\n",
       "    </tr>\n",
       "  </tbody>\n",
       "</table>\n",
       "</div>"
      ],
      "text/plain": [
       "   Integer Feature_0  Integer Feature_1  Integer Feature_2  \\\n",
       "0                  1                  0                  0   \n",
       "1                  0                  1                  0   \n",
       "2                  0                  0                  1   \n",
       "3                  0                  1                  0   \n",
       "\n",
       "   Categorical Feature_box  Categorical Feature_fox  Categorical Feature_socks  \n",
       "0                        0                        0                          1  \n",
       "1                        0                        1                          0  \n",
       "2                        0                        0                          1  \n",
       "3                        1                        0                          0  "
      ]
     },
     "execution_count": 9,
     "metadata": {},
     "output_type": "execute_result"
    }
   ],
   "source": [
    "# create a DataFrame with an integer feature and a categorical string feature\n",
    "demo_df = pd.DataFrame({'Integer Feature': [0, 1, 2, 1],\n",
    "                        'Categorical Feature': ['socks', 'fox', 'socks', 'box']})\n",
    "display(demo_df)\n",
    "\n",
    "demo_df['Integer Feature'] = demo_df['Integer Feature'].astype(str)\n",
    "pd.get_dummies(demo_df, columns=['Integer Feature', 'Categorical Feature'])"
   ]
  },
  {
   "cell_type": "markdown",
   "metadata": {},
   "source": [
    "<br>\n",
    "\n",
    "---\n",
    "\n",
    "### 4.2 ビニング、離散化、線形モデル、決定木\n",
    "\n",
    "利用する機械学習のモデルによって、裁量のデータ表現方法が異なってくる。  \n",
    "例えば、線形モデルと決定木ベースモデルでは、特徴量の表現の相違に関して非常に異なる特性をもつ。\n",
    "\n",
    "ここで、wave回帰データセットを用いて、線形回帰モデルと決定木回帰モデルを比較してみる。"
   ]
  },
  {
   "cell_type": "code",
   "execution_count": 10,
   "metadata": {},
   "outputs": [
    {
     "data": {
      "text/plain": [
       "<matplotlib.legend.Legend at 0x2388dd73438>"
      ]
     },
     "execution_count": 10,
     "metadata": {},
     "output_type": "execute_result"
    },
    {
     "data": {
      "application/pdf": "[encoded data removed]",
      "image/png": "[encoded data removed]",
      "text/plain": [
       "<Figure size 432x288 with 1 Axes>"
      ]
     },
     "metadata": {
      "needs_background": "light"
     },
     "output_type": "display_data"
    }
   ],
   "source": [
    "from sklearn.linear_model import LinearRegression\n",
    "from sklearn.tree import DecisionTreeRegressor\n",
    "\n",
    "X, y = mglearn.datasets.make_wave(n_samples=120)\n",
    "line = np.linspace(-3, 3, 1000, endpoint=False).reshape(-1, 1)\n",
    "\n",
    "reg = DecisionTreeRegressor(min_samples_leaf=3).fit(X, y)\n",
    "plt.plot(line, reg.predict(line), label=\"decision tree\")\n",
    "\n",
    "reg = LinearRegression().fit(X, y)\n",
    "plt.plot(line, reg.predict(line), label=\"linear regression\")\n",
    "\n",
    "plt.plot(X[:, 0], y, 'o', c='k')\n",
    "plt.ylabel(\"Regression output\")\n",
    "plt.xlabel(\"Input feature\")\n",
    "plt.legend(loc=\"best\")"
   ]
  },
  {
   "cell_type": "markdown",
   "metadata": {},
   "source": [
    "このデータセットは1つの特徴量しかないため、線形モデルでは一本の線となる。  \n",
    "決定木は複雑なモデルを構築できるが、データの表現に大きく依存する。\n",
    "\n",
    "線形モデルを連続データに対してより強力にする方法の1つとして、特徴量の**ビニング**、もしくは**離散化**がある。\n",
    "\n",
    "例えば特徴量の入力レンジ(この例では-3～3)を、10個のビンに分割することを考える。  \n",
    "ここでは***KBinsDiscretizer***を使って10のビンを作成する。\n",
    "\n",
    "参考：https://scikit-learn.org/stable/modules/generated/sklearn.preprocessing.KBinsDiscretizer.html"
   ]
  },
  {
   "cell_type": "code",
   "execution_count": 11,
   "metadata": {},
   "outputs": [],
   "source": [
    "from sklearn.preprocessing import KBinsDiscretizer"
   ]
  },
  {
   "cell_type": "code",
   "execution_count": 12,
   "metadata": {},
   "outputs": [
    {
     "name": "stdout",
     "output_type": "stream",
     "text": [
      "bin edges: \n",
      " [array([-2.967, -2.378, -1.789, -1.2  , -0.612, -0.023,  0.566,  1.155,\n",
      "        1.744,  2.333,  2.921])]\n"
     ]
    }
   ],
   "source": [
    "# strategyに\"uniform\"を指定することで、全てのビンの横幅を同じにする。\n",
    "# デフォルトは\"quantile\"で、全てのビンに入る数が同じになるように分割される\n",
    "kb = KBinsDiscretizer(n_bins=10, strategy='uniform')\n",
    "kb.fit(X)\n",
    "\n",
    "# 各ビンの境界値\n",
    "print(\"bin edges: \\n\", kb.bin_edges_)"
   ]
  },
  {
   "cell_type": "code",
   "execution_count": 13,
   "metadata": {},
   "outputs": [
    {
     "data": {
      "text/plain": [
       "<120x10 sparse matrix of type '<class 'numpy.float64'>'\n",
       "\twith 120 stored elements in Compressed Sparse Row format>"
      ]
     },
     "execution_count": 13,
     "metadata": {},
     "output_type": "execute_result"
    }
   ],
   "source": [
    "X_binned = kb.transform(X)\n",
    "X_binned"
   ]
  },
  {
   "cell_type": "code",
   "execution_count": 14,
   "metadata": {},
   "outputs": [
    {
     "name": "stdout",
     "output_type": "stream",
     "text": [
      "[[-0.753]\n",
      " [ 2.704]\n",
      " [ 1.392]\n",
      " [ 0.592]\n",
      " [-2.064]\n",
      " [-2.064]\n",
      " [-2.651]\n",
      " [ 2.197]\n",
      " [ 0.607]\n",
      " [ 1.248]]\n"
     ]
    },
    {
     "data": {
      "text/plain": [
       "array([[0., 0., 0., 1., 0., 0., 0., 0., 0., 0.],\n",
       "       [0., 0., 0., 0., 0., 0., 0., 0., 0., 1.],\n",
       "       [0., 0., 0., 0., 0., 0., 0., 1., 0., 0.],\n",
       "       [0., 0., 0., 0., 0., 0., 1., 0., 0., 0.],\n",
       "       [0., 1., 0., 0., 0., 0., 0., 0., 0., 0.],\n",
       "       [0., 1., 0., 0., 0., 0., 0., 0., 0., 0.],\n",
       "       [1., 0., 0., 0., 0., 0., 0., 0., 0., 0.],\n",
       "       [0., 0., 0., 0., 0., 0., 0., 0., 1., 0.],\n",
       "       [0., 0., 0., 0., 0., 0., 1., 0., 0., 0.],\n",
       "       [0., 0., 0., 0., 0., 0., 0., 1., 0., 0.]])"
      ]
     },
     "execution_count": 14,
     "metadata": {},
     "output_type": "execute_result"
    }
   ],
   "source": [
    "# もとの特徴量とビン分割後の特徴量の比較\n",
    "print(X[:10])\n",
    "X_binned.toarray()[:10]"
   ]
  },
  {
   "cell_type": "markdown",
   "metadata": {},
   "source": [
    "10ビンを指定したので、変換されたデータセットX_binnedには10個の特徴量ができている。\n",
    "\n",
    "これらの手法を用いて、線形回帰モデルと決定木モデルに適用してみる。"
   ]
  },
  {
   "cell_type": "code",
   "execution_count": 15,
   "metadata": {},
   "outputs": [],
   "source": [
    "kb = KBinsDiscretizer(n_bins=10, strategy='uniform', encode='onehot-dense')\n",
    "kb.fit(X)\n",
    "X_binned = kb.transform(X)"
   ]
  },
  {
   "cell_type": "code",
   "execution_count": 16,
   "metadata": {},
   "outputs": [
    {
     "data": {
      "text/plain": [
       "Text(0.5,0,'Input feature')"
      ]
     },
     "execution_count": 16,
     "metadata": {},
     "output_type": "execute_result"
    },
    {
     "data": {
      "application/pdf": "[encoded data removed]",
      "image/png": "[encoded data removed]",
      "text/plain": [
       "<Figure size 432x288 with 1 Axes>"
      ]
     },
     "metadata": {
      "needs_background": "light"
     },
     "output_type": "display_data"
    }
   ],
   "source": [
    "line_binned = kb.transform(line)\n",
    "\n",
    "reg = LinearRegression().fit(X_binned, y)\n",
    "plt.plot(line, reg.predict(line_binned), label='linear regression binned')\n",
    "\n",
    "reg = DecisionTreeRegressor(min_samples_split=3).fit(X_binned, y)\n",
    "plt.plot(line, reg.predict(line_binned), label='decision tree binned')\n",
    "\n",
    "plt.plot(X[:, 0], y, 'o', c='k')\n",
    "plt.vlines(kb.bin_edges_[0], -3, 3, linewidth=1, alpha=.2)\n",
    "plt.legend(loc=\"best\")\n",
    "plt.ylabel(\"Regression output\")\n",
    "plt.xlabel(\"Input feature\")"
   ]
  },
  {
   "cell_type": "markdown",
   "metadata": {},
   "source": [
    "分かりにくいが、線形回帰と決定木が完全に同じ予測を行っている。  \n",
    "ビンごとに特徴量が一定になるので、どのようなモデルであってもビンの中では同じ値を予測することになる。\n",
    "\n",
    "<br>\n",
    "\n",
    "ビニングの前後で比較すると、線形モデルに関してはより柔軟になっているが決定木は柔軟性が低下している。  \n",
    "一般的には決定木にとって特徴量のビニングはメリットがない。  \n",
    "* もともと決定木はデータを任意の場所で分割して学習できるから\n",
    "\n",
    "<br>\n",
    "\n",
    "一方で、線形モデルにおいてはこの変換による表現力増大の効果が期待できる。  \n",
    "線形モデルを使う場合において、いくつかの特徴量のターゲットが非線形の関係を持つならば、ビニングを使うと表現力を増強できる。"
   ]
  },
  {
   "cell_type": "markdown",
   "metadata": {},
   "source": [
    "<br>\n",
    "\n",
    "---\n",
    "\n",
    "### 4.3 交互作用と多項式\n",
    "\n",
    "特徴量表現を増加するもう1つの方法として、もとのデータの**交互作用特徴量**と**多項式特徴量**を加える方法がある。  \n",
    "\n",
    "実例で確認する。  \n",
    "ビンで分割したwaveデータセットに対して、交互作用を特徴量として加えてみる。\n",
    "\n",
    "ここでは、それぞれのビンごとに傾きを学習するために、データポイントがどのビンに入っているかを示す特徴量と、  \n",
    "x軸のどこにあるかを示す特徴量の交互作用を加える。"
   ]
  },
  {
   "cell_type": "code",
   "execution_count": 17,
   "metadata": {},
   "outputs": [
    {
     "name": "stdout",
     "output_type": "stream",
     "text": [
      "(120, 20)\n"
     ]
    }
   ],
   "source": [
    "X_product = np.hstack([X_binned, X * X_binned])\n",
    "print(X_product.shape)"
   ]
  },
  {
   "cell_type": "code",
   "execution_count": 18,
   "metadata": {},
   "outputs": [
    {
     "name": "stdout",
     "output_type": "stream",
     "text": [
      "(120, 1) (120, 10) (120, 20)\n"
     ]
    }
   ],
   "source": [
    "print(X.shape, X_binned.shape, X_product.shape)"
   ]
  },
  {
   "cell_type": "code",
   "execution_count": 19,
   "metadata": {},
   "outputs": [
    {
     "data": {
      "text/plain": [
       "array([[-0.753],\n",
       "       [ 2.704],\n",
       "       [ 1.392]])"
      ]
     },
     "execution_count": 19,
     "metadata": {},
     "output_type": "execute_result"
    }
   ],
   "source": [
    "X[:3]"
   ]
  },
  {
   "cell_type": "code",
   "execution_count": 20,
   "metadata": {},
   "outputs": [
    {
     "data": {
      "text/plain": [
       "array([[0., 0., 0., 1., 0., 0., 0., 0., 0., 0.],\n",
       "       [0., 0., 0., 0., 0., 0., 0., 0., 0., 1.],\n",
       "       [0., 0., 0., 0., 0., 0., 0., 1., 0., 0.]])"
      ]
     },
     "execution_count": 20,
     "metadata": {},
     "output_type": "execute_result"
    }
   ],
   "source": [
    "X_binned[:3]"
   ]
  },
  {
   "cell_type": "code",
   "execution_count": 21,
   "metadata": {},
   "outputs": [
    {
     "data": {
      "text/plain": [
       "array([[ 0.   ,  0.   ,  0.   ,  1.   ,  0.   ,  0.   ,  0.   ,  0.   ,\n",
       "         0.   ,  0.   , -0.   , -0.   , -0.   , -0.753, -0.   , -0.   ,\n",
       "        -0.   , -0.   , -0.   , -0.   ],\n",
       "       [ 0.   ,  0.   ,  0.   ,  0.   ,  0.   ,  0.   ,  0.   ,  0.   ,\n",
       "         0.   ,  1.   ,  0.   ,  0.   ,  0.   ,  0.   ,  0.   ,  0.   ,\n",
       "         0.   ,  0.   ,  0.   ,  2.704],\n",
       "       [ 0.   ,  0.   ,  0.   ,  0.   ,  0.   ,  0.   ,  0.   ,  1.   ,\n",
       "         0.   ,  0.   ,  0.   ,  0.   ,  0.   ,  0.   ,  0.   ,  0.   ,\n",
       "         0.   ,  1.392,  0.   ,  0.   ]])"
      ]
     },
     "execution_count": 21,
     "metadata": {},
     "output_type": "execute_result"
    }
   ],
   "source": [
    "X_product[:3]"
   ]
  },
  {
   "cell_type": "code",
   "execution_count": 22,
   "metadata": {},
   "outputs": [
    {
     "data": {
      "text/plain": [
       "<matplotlib.legend.Legend at 0x2388e1c7be0>"
      ]
     },
     "execution_count": 22,
     "metadata": {},
     "output_type": "execute_result"
    },
    {
     "data": {
      "application/pdf": "[encoded data removed]",
      "image/png": "[encoded data removed]",
      "text/plain": [
       "<Figure size 432x288 with 1 Axes>"
      ]
     },
     "metadata": {
      "needs_background": "light"
     },
     "output_type": "display_data"
    }
   ],
   "source": [
    "reg = LinearRegression().fit(X_product, y)\n",
    "\n",
    "line_product = np.hstack([line_binned, line * line_binned])\n",
    "plt.plot(line, reg.predict(line_product), label='linear regression product')\n",
    "\n",
    "plt.vlines(kb.bin_edges_[0], -3, 3, linewidth=1, alpha=.2)\n",
    "\n",
    "plt.plot(X[:, 0], y, 'o', c='k')\n",
    "plt.ylabel(\"Regression output\")\n",
    "plt.xlabel(\"Input feature\")\n",
    "plt.legend(loc=\"best\")"
   ]
  },
  {
   "cell_type": "markdown",
   "metadata": {},
   "source": [
    "個々のビンがそれぞれ傾きをもつようになり、より当てはまりが良いモデルになったことがわかる。\n",
    "\n",
    "ビニング以外に、特徴量の**多項式**を使う方法もある。  \n",
    "これは、ある特徴量xに対して、$x^2$、$x^3$、$x^4$といった特徴量を作る。\n",
    "\n",
    "この機能は***PolynomialFeatures***に実装されている。"
   ]
  },
  {
   "cell_type": "code",
   "execution_count": 23,
   "metadata": {},
   "outputs": [],
   "source": [
    "from sklearn.preprocessing import PolynomialFeatures\n",
    "\n",
    "# x ** 10までの多項式を加える\n",
    "# デフォルトの\"include_bias=True\"だと、常に1となる特徴量を加える\n",
    "poly = PolynomialFeatures(degree=10, include_bias=False)\n",
    "poly.fit(X)\n",
    "X_poly = poly.transform(X)"
   ]
  },
  {
   "cell_type": "code",
   "execution_count": 24,
   "metadata": {},
   "outputs": [
    {
     "name": "stdout",
     "output_type": "stream",
     "text": [
      "X.shape\t\t: (120, 1)\n",
      "X_poly.shape\t: (120, 10)\n"
     ]
    }
   ],
   "source": [
    "print(\"X.shape\\t\\t: {}\".format(X.shape))\n",
    "print(\"X_poly.shape\\t: {}\".format(X_poly.shape))"
   ]
  },
  {
   "cell_type": "code",
   "execution_count": 25,
   "metadata": {},
   "outputs": [
    {
     "name": "stdout",
     "output_type": "stream",
     "text": [
      "Entries of X:\n",
      "[[-0.753]\n",
      " [ 2.704]\n",
      " [ 1.392]\n",
      " [ 0.592]\n",
      " [-2.064]]\n",
      "\n",
      "Entries of X_poly:\n",
      "[[   -0.753     0.567    -0.427     0.321    -0.242     0.182    -0.137\n",
      "      0.103    -0.078     0.058]\n",
      " [    2.704     7.313    19.777    53.482   144.632   391.125  1057.714\n",
      "   2860.36   7735.232 20918.278]\n",
      " [    1.392     1.938     2.697     3.754     5.226     7.274    10.125\n",
      "     14.094    19.618    27.307]\n",
      " [    0.592     0.35      0.207     0.123     0.073     0.043     0.025\n",
      "      0.015     0.009     0.005]\n",
      " [   -2.064     4.26     -8.791    18.144   -37.448    77.289  -159.516\n",
      "    329.222  -679.478  1402.367]]\n"
     ]
    }
   ],
   "source": [
    "print(\"Entries of X:\\n{}\".format(X[:5]))\n",
    "print(\"\\nEntries of X_poly:\\n{}\".format(X_poly[:5]))"
   ]
  },
  {
   "cell_type": "markdown",
   "metadata": {},
   "source": [
    "個々の特徴量の意味は***get_feature_names***メソッドで知ることができる。"
   ]
  },
  {
   "cell_type": "code",
   "execution_count": 26,
   "metadata": {},
   "outputs": [
    {
     "name": "stdout",
     "output_type": "stream",
     "text": [
      "Polynomial feature names:\n",
      "['x0', 'x0^2', 'x0^3', 'x0^4', 'x0^5', 'x0^6', 'x0^7', 'x0^8', 'x0^9', 'x0^10']\n"
     ]
    }
   ],
   "source": [
    "print(\"Polynomial feature names:\\n{}\".format(poly.get_feature_names()))"
   ]
  },
  {
   "cell_type": "markdown",
   "metadata": {},
   "source": [
    "<br>\n",
    "\n",
    "これらの多項式特徴量を線形回帰モデルと組み合わせると、古典的な**多項式回帰**モデルになる。"
   ]
  },
  {
   "cell_type": "code",
   "execution_count": 27,
   "metadata": {},
   "outputs": [
    {
     "data": {
      "text/plain": [
       "<matplotlib.legend.Legend at 0x2388e1e9940>"
      ]
     },
     "execution_count": 27,
     "metadata": {},
     "output_type": "execute_result"
    },
    {
     "data": {
      "application/pdf": "[encoded data removed]",
      "image/png": "[encoded data removed]",
      "text/plain": [
       "<Figure size 432x288 with 1 Axes>"
      ]
     },
     "metadata": {
      "needs_background": "light"
     },
     "output_type": "display_data"
    }
   ],
   "source": [
    "reg = LinearRegression().fit(X_poly, y)\n",
    "\n",
    "line_poly = poly.transform(line)\n",
    "plt.plot(line, reg.predict(line_poly), label='polynomial linear regression')\n",
    "plt.plot(X[:, 0], y, 'o', c='k')\n",
    "plt.ylabel(\"Regression output\")\n",
    "plt.xlabel(\"Input feature\")\n",
    "plt.legend(loc=\"best\")"
   ]
  },
  {
   "cell_type": "markdown",
   "metadata": {},
   "source": [
    "多項式特徴量はこの1次元のデータに対して、非常にスムーズに適合する。\n",
    "\n",
    "比較としてカーネル法を用いたSVMモデルを、変換していないオリジナルデータに適用してみる。"
   ]
  },
  {
   "cell_type": "code",
   "execution_count": 28,
   "metadata": {},
   "outputs": [
    {
     "data": {
      "text/plain": [
       "<matplotlib.legend.Legend at 0x2388e273278>"
      ]
     },
     "execution_count": 28,
     "metadata": {},
     "output_type": "execute_result"
    },
    {
     "data": {
      "application/pdf": "[encoded data removed]",
      "image/png": "[encoded data removed]",
      "text/plain": [
       "<Figure size 432x288 with 1 Axes>"
      ]
     },
     "metadata": {
      "needs_background": "light"
     },
     "output_type": "display_data"
    }
   ],
   "source": [
    "from sklearn.svm import SVR\n",
    "\n",
    "for gamma in [1, 10]:\n",
    "    svr = SVR(gamma=gamma).fit(X, y)\n",
    "    plt.plot(line, svr.predict(line), label='SVR gamma={}'.format(gamma))\n",
    "\n",
    "plt.plot(X[:, 0], y, 'o', c='k')\n",
    "plt.ylabel(\"Regression output\")\n",
    "plt.xlabel(\"Input feature\")\n",
    "plt.legend(loc=\"best\")"
   ]
  },
  {
   "cell_type": "markdown",
   "metadata": {},
   "source": [
    "このように複雑なモデルを用いると、特徴量に対して明示的な変換を行わなくても、多項式回帰と同じように複雑な予測ができる。"
   ]
  },
  {
   "cell_type": "markdown",
   "metadata": {},
   "source": [
    "*おまけ*\n",
    "\n",
    "一方で、多項式特徴量を複雑なモデルに適用すると、性能が出ない場合もある。"
   ]
  },
  {
   "cell_type": "code",
   "execution_count": 29,
   "metadata": {},
   "outputs": [
    {
     "data": {
      "text/plain": [
       "<matplotlib.legend.Legend at 0x2388e2e1ba8>"
      ]
     },
     "execution_count": 29,
     "metadata": {},
     "output_type": "execute_result"
    },
    {
     "data": {
      "application/pdf": "[encoded data removed]",
      "image/png": "[encoded data removed]",
      "text/plain": [
       "<Figure size 432x288 with 1 Axes>"
      ]
     },
     "metadata": {
      "needs_background": "light"
     },
     "output_type": "display_data"
    }
   ],
   "source": [
    "for gamma in [1, 10]:\n",
    "    svr = SVR(gamma=gamma).fit(X_poly, y)\n",
    "    plt.plot(line, svr.predict(line_poly), label='SVR gamma={}'.format(gamma))\n",
    "\n",
    "plt.plot(X[:, 0], y, 'o', c='k')\n",
    "plt.ylabel(\"Regression output\")\n",
    "plt.xlabel(\"Input feature\")\n",
    "plt.legend(loc=\"best\")"
   ]
  },
  {
   "cell_type": "markdown",
   "metadata": {},
   "source": [
    "全てのモデルにおいて盲目的に多項式特徴量を適用すればいい、というわけではないので注意が必要。\n",
    "\n",
    "<br>\n",
    "\n",
    "より現実的なタスクに交互作用特徴量と多項式特徴量を適用してみる。\n"
   ]
  },
  {
   "cell_type": "code",
   "execution_count": 30,
   "metadata": {},
   "outputs": [],
   "source": [
    "from sklearn.datasets import load_boston\n",
    "from sklearn.preprocessing import MinMaxScaler\n",
    "\n",
    "boston = load_boston()\n",
    "X_train, X_test, y_train, y_test = train_test_split(\n",
    "    boston.data, boston.target, random_state=0)\n",
    "\n",
    "# データのスケール変換\n",
    "scaler = MinMaxScaler()\n",
    "X_train_scaled = scaler.fit_transform(X_train)\n",
    "X_test_scaled = scaler.transform(X_test)"
   ]
  },
  {
   "cell_type": "markdown",
   "metadata": {},
   "source": [
    "ここでは、二次までの多項式特徴量と交互作用を抽出してみる。"
   ]
  },
  {
   "cell_type": "code",
   "execution_count": 31,
   "metadata": {},
   "outputs": [
    {
     "name": "stdout",
     "output_type": "stream",
     "text": [
      "X_train.shape: (379, 13)\n",
      "X_train_poly.shape: (379, 105)\n"
     ]
    }
   ],
   "source": [
    "poly = PolynomialFeatures(degree=2).fit(X_train_scaled)\n",
    "X_train_poly = poly.transform(X_train_scaled)\n",
    "X_test_poly = poly.transform(X_test_scaled)\n",
    "\n",
    "print(\"X_train.shape: {}\".format(X_train.shape))\n",
    "print(\"X_train_poly.shape: {}\".format(X_train_poly.shape))"
   ]
  },
  {
   "cell_type": "markdown",
   "metadata": {},
   "source": [
    "もとの特徴量は13しかなかったが、これを105まで拡張した。  \n",
    "これらの新しい特徴量は、もとの特徴量から2つの特徴量のすべての組み合わせと、もとの特徴量の二乗で構成される。\n",
    "\n",
    "ここでdgree=2と指定しているのは、もとの特徴量2つの積までを考慮するという意味であり、  \n",
    "もちろんdgreeに指定する数を大きくするほど、拡張される特徴量の数は増える。"
   ]
  },
  {
   "cell_type": "code",
   "execution_count": 32,
   "metadata": {},
   "outputs": [
    {
     "name": "stdout",
     "output_type": "stream",
     "text": [
      "X_train.shape: (379, 13)\n",
      "X_train_poly_ex.shape: (379, 560)\n"
     ]
    }
   ],
   "source": [
    "poly_ex = PolynomialFeatures(degree=3).fit(X_train_scaled)\n",
    "X_train_poly_ex = poly_ex.transform(X_train_scaled)\n",
    "X_test_poly_ex = poly_ex.transform(X_test_scaled)\n",
    "\n",
    "print(\"X_train.shape: {}\".format(X_train.shape))\n",
    "print(\"X_train_poly_ex.shape: {}\".format(X_train_poly_ex.shape))"
   ]
  },
  {
   "cell_type": "code",
   "execution_count": 33,
   "metadata": {},
   "outputs": [
    {
     "name": "stdout",
     "output_type": "stream",
     "text": [
      "Polynomial feature names:\n",
      "['1', 'x0', 'x1', 'x2', 'x3', 'x4', 'x5', 'x6', 'x7', 'x8', 'x9', 'x10', 'x11', 'x12', 'x0^2', 'x0 x1', 'x0 x2', 'x0 x3', 'x0 x4', 'x0 x5', 'x0 x6', 'x0 x7', 'x0 x8', 'x0 x9', 'x0 x10', 'x0 x11', 'x0 x12', 'x1^2', 'x1 x2', 'x1 x3', 'x1 x4', 'x1 x5', 'x1 x6', 'x1 x7', 'x1 x8', 'x1 x9', 'x1 x10', 'x1 x11', 'x1 x12', 'x2^2', 'x2 x3', 'x2 x4', 'x2 x5', 'x2 x6', 'x2 x7', 'x2 x8', 'x2 x9', 'x2 x10', 'x2 x11', 'x2 x12', 'x3^2', 'x3 x4', 'x3 x5', 'x3 x6', 'x3 x7', 'x3 x8', 'x3 x9', 'x3 x10', 'x3 x11', 'x3 x12', 'x4^2', 'x4 x5', 'x4 x6', 'x4 x7', 'x4 x8', 'x4 x9', 'x4 x10', 'x4 x11', 'x4 x12', 'x5^2', 'x5 x6', 'x5 x7', 'x5 x8', 'x5 x9', 'x5 x10', 'x5 x11', 'x5 x12', 'x6^2', 'x6 x7', 'x6 x8', 'x6 x9', 'x6 x10', 'x6 x11', 'x6 x12', 'x7^2', 'x7 x8', 'x7 x9', 'x7 x10', 'x7 x11', 'x7 x12', 'x8^2', 'x8 x9', 'x8 x10', 'x8 x11', 'x8 x12', 'x9^2', 'x9 x10', 'x9 x11', 'x9 x12', 'x10^2', 'x10 x11', 'x10 x12', 'x11^2', 'x11 x12', 'x12^2']\n"
     ]
    }
   ],
   "source": [
    "print(\"Polynomial feature names:\\n{}\".format(poly.get_feature_names()))"
   ]
  },
  {
   "cell_type": "markdown",
   "metadata": {},
   "source": [
    "最初の特徴量は乗数特徴量で、ここでは\"1\"と呼ばれている。  \n",
    "\n",
    "次の13の特徴量はもとの特徴量そのままであり、その次から最初の特徴量の2乗($x0^2$)や、  \n",
    "最初の特徴量とその他の特徴量の組み合わせが続いている。\n",
    "\n",
    "Ridgeを使って、交互作用特徴量のあり/なしで比較してみる。"
   ]
  },
  {
   "cell_type": "code",
   "execution_count": 38,
   "metadata": {},
   "outputs": [
    {
     "name": "stdout",
     "output_type": "stream",
     "text": [
      "Score without interactions: 0.621\n",
      "Score with interactions: 0.753\n"
     ]
    }
   ],
   "source": [
    "from sklearn.linear_model import Ridge\n",
    "\n",
    "ridge = Ridge().fit(X_train_scaled, y_train)\n",
    "print(\"Score without interactions: {:.3f}\".format(\n",
    "    ridge.score(X_test_scaled, y_test)))\n",
    "\n",
    "ridge = Ridge().fit(X_train_poly, y_train)\n",
    "print(\"Score with interactions: {:.3f}\".format(\n",
    "    ridge.score(X_test_poly, y_test)))"
   ]
  },
  {
   "cell_type": "markdown",
   "metadata": {},
   "source": [
    "交互作用特徴量と多項式特徴量は、Ridgeの性能を明らかに押し上げていることがわかる。  \n",
    "これはデータの表現力が増大されており、線形モデルのような単純なモデルにおいては効果が絶大であるから。\n",
    "\n",
    "ただし、どのようなモデルであってもいつでも有効なわけではない。\n",
    "\n",
    "例として、ランダムフォレストのような複雑なモデルを使う場合で比較してみる。"
   ]
  },
  {
   "cell_type": "code",
   "execution_count": 35,
   "metadata": {},
   "outputs": [
    {
     "name": "stdout",
     "output_type": "stream",
     "text": [
      "Score without interactions: 0.803\n",
      "Score with interactions: 0.751\n"
     ]
    }
   ],
   "source": [
    "from sklearn.ensemble import RandomForestRegressor\n",
    "rf = RandomForestRegressor(n_estimators=100).fit(X_train_scaled, y_train)\n",
    "print(\"Score without interactions: {:.3f}\".format(\n",
    "    rf.score(X_test_scaled, y_test)))\n",
    "\n",
    "rf = RandomForestRegressor(n_estimators=100).fit(X_train_poly, y_train)\n",
    "print(\"Score with interactions: {:.3f}\".format(rf.score(X_test_poly, y_test)))"
   ]
  },
  {
   "cell_type": "markdown",
   "metadata": {},
   "source": [
    "そもそも交互作用特徴量や多項式特徴量がなくてもRidgeの性能を上回っている。  \n",
    "また、特徴量を入れるとわずかに性能が下げっていることがわかる。\n",
    "\n",
    "このように、採択するモデルによって特徴量を拡張すべきか判断する必要がある。"
   ]
  },
  {
   "cell_type": "markdown",
   "metadata": {},
   "source": [
    "<br>\n",
    "\n",
    "---\n",
    "\n",
    "## おわり\n",
    "\n",
    "誤字脱字、不明点あればご連絡ください。"
   ]
  }
 ],
 "metadata": {
  "kernelspec": {
   "display_name": "Python 3",
   "language": "python",
   "name": "python3"
  },
  "language_info": {
   "codemirror_mode": {
    "name": "ipython",
    "version": 3
   },
   "file_extension": ".py",
   "mimetype": "text/x-python",
   "name": "python",
   "nbconvert_exporter": "python",
   "pygments_lexer": "ipython3",
   "version": "3.7.1"
  }
 },
 "nbformat": 4,
 "nbformat_minor": 2
}
